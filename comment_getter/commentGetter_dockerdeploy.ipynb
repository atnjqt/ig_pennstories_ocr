{
 "cells": [
  {
   "cell_type": "markdown",
   "metadata": {},
   "source": [
    "## Instagram Comment Getter - *docker deployment*\n",
    "\n",
    "\n",
    "- Selenium Web Scraping for IG Comments"
   ]
  },
  {
   "cell_type": "code",
   "execution_count": 1,
   "metadata": {},
   "outputs": [],
   "source": [
    "import pandas as pd\n",
    "import os"
   ]
  },
  {
   "cell_type": "markdown",
   "metadata": {},
   "source": [
    "### Configurations for Docker container deployment"
   ]
  },
  {
   "cell_type": "code",
   "execution_count": 2,
   "metadata": {},
   "outputs": [],
   "source": [
    "# path to repo decker deploy script\n",
    "deploy_script_path = './deploy.sh' # <-- Make sure to edit for your docker mount -v"
   ]
  },
  {
   "cell_type": "code",
   "execution_count": 3,
   "metadata": {},
   "outputs": [],
   "source": [
    "# IG Username (`username` in ig_df)\n",
    "input_wwe_username = 'blackivystories'"
   ]
  },
  {
   "cell_type": "code",
   "execution_count": 4,
   "metadata": {},
   "outputs": [],
   "source": [
    "# Our instagram df from PhantomBuster\n",
    "ig_df = pd.read_csv('./data/blackivystories_PostsExtractor_03012021.csv')"
   ]
  },
  {
   "cell_type": "markdown",
   "metadata": {},
   "source": [
    "### Loop through urls for BlackIvyStories IG username ...\n"
   ]
  },
  {
   "cell_type": "code",
   "execution_count": 5,
   "metadata": {},
   "outputs": [],
   "source": [
    "# Our exported Azure OCR df with text\n",
    "ocr_df = pd.read_json('./data/blackivystories_ig_ocr_expanded.json')"
   ]
  },
  {
   "cell_type": "code",
   "execution_count": 6,
   "metadata": {},
   "outputs": [
    {
     "data": {
      "text/plain": [
       "Index(['index', 'language', 'text_angle', 'orientation', 'regions', 'filename',\n",
       "       'txt', 'ivy'],\n",
       "      dtype='object')"
      ]
     },
     "execution_count": 6,
     "metadata": {},
     "output_type": "execute_result"
    }
   ],
   "source": [
    "ocr_df.columns"
   ]
  },
  {
   "cell_type": "markdown",
   "metadata": {},
   "source": [
    "## Running for all URLs now\n",
    "\n",
    "- though it might make sense to go one college at a time in case things fail...\n",
    "\n",
    "### We want to get our Penn urls... this worked in the jhub deployment. What about dartmouth for docker deployment?\n",
    "\n",
    "I am reverse extracting this from the filename... probably wasn't best strategy to start with"
   ]
  },
  {
   "cell_type": "code",
   "execution_count": 7,
   "metadata": {},
   "outputs": [],
   "source": [
    "#ivy_input_name = 'penn'\n",
    "#ivy_input_name = 'dartmouth'"
   ]
  },
  {
   "cell_type": "code",
   "execution_count": 8,
   "metadata": {},
   "outputs": [],
   "source": [
    "postid_filename = []\n",
    "ivy_ocr_pid = []\n",
    "\n",
    "for pid in ocr_df[(ocr_df.ivy == 'brown') |\n",
    "                  (ocr_df.ivy == 'princeton') |\n",
    "                  (ocr_df.ivy == 'harvard') |\n",
    "                  (ocr_df.ivy == 'columbia') |\n",
    "                  (ocr_df.ivy == 'yale') |\n",
    "                  (ocr_df.ivy == 'cornell')|\n",
    "                  (ocr_df.ivy == 'penn') |\n",
    "                  (ocr_df.ivy == 'dartmouth')].filename.str[:-4]:\n",
    "    ivy_ocr_pid.append(int(pid))\n",
    "    \n",
    "ivy_ig_post_urls = ig_df[ig_df.postId.isin(ivy_ocr_pid)].postUrl.unique()\n"
   ]
  },
  {
   "cell_type": "markdown",
   "metadata": {},
   "source": [
    "#### *TOTAL NUMBER OF URLS FOR IVY IG STORIES*"
   ]
  },
  {
   "cell_type": "code",
   "execution_count": 9,
   "metadata": {
    "scrolled": true
   },
   "outputs": [
    {
     "data": {
      "text/plain": [
       "318"
      ]
     },
     "execution_count": 9,
     "metadata": {},
     "output_type": "execute_result"
    }
   ],
   "source": [
    "len(ivy_ig_post_urls)"
   ]
  },
  {
   "cell_type": "code",
   "execution_count": 10,
   "metadata": {},
   "outputs": [],
   "source": [
    "# get our ids\n",
    "url_ids = []\n",
    "\n",
    "for url in ivy_ig_post_urls:\n",
    "    url_ids.append(url.split('/')[-2])\n",
    "    \n",
    "# check if they already ran (in case the cell fails)\n",
    "url_for_commentgetter = []\n",
    "\n",
    "for ig_url in url_ids:\n",
    "    json_outfile = ig_url + '.json'\n",
    "    if json_outfile not in os.listdir('./data/etl/'): # <-- the url doesn't already have a json etl outfile\n",
    "        url_for_commentgetter.append('https://www.instagram.com/p/{}/'.format(ig_url))"
   ]
  },
  {
   "cell_type": "markdown",
   "metadata": {},
   "source": [
    "#### *HOW MANY URLS ARE YOU DEPLOYING DOCKER COMMENT GETTER FOR:*\n",
    "\n",
    "*--> If its zero then you are done for that respective ivy filter!*"
   ]
  },
  {
   "cell_type": "code",
   "execution_count": 11,
   "metadata": {},
   "outputs": [
    {
     "data": {
      "text/plain": [
       "180"
      ]
     },
     "execution_count": 11,
     "metadata": {},
     "output_type": "execute_result"
    }
   ],
   "source": [
    "len(url_for_commentgetter)"
   ]
  },
  {
   "cell_type": "markdown",
   "metadata": {},
   "source": [
    "__________\n",
    "\n",
    "## DOCKER DEPLOYMENT FOR INSTAGRAM COMMENT GETTER\n",
    "\n",
    "\n",
    "- *You need Docker installed on your host... more info here: https://docs.docker.com/get-docker/*\n",
    "\n",
    "- I think Firefox is best for testing but in the past I remember using Chrome as it was more friendly in docker with selenium... we will see:\n",
    "\n",
    "- I keep getting connection dropped for firefox so maybe chrome is best?\n",
    "\n",
    "_________\n",
    "\n",
    "```bash\n",
    "docker run -d -p 4444:4444 -v --shm-mem=4G selenium/standalone-firefox\n",
    "# you can rename this container\n",
    "\n",
    "# check for running container name\n",
    "docker ps\n",
    "docker rename _whatever_random_docker_name_is_ selenium-firefox\n",
    "\n",
    "# nice to have a terminal windows visible with docker stats for monitoring\n",
    "docker stats\n",
    "```"
   ]
  },
  {
   "cell_type": "markdown",
   "metadata": {},
   "source": [
    "__________\n",
    "#### *RUN FOR FIRST BUILD, OR JUST RESTART*"
   ]
  },
  {
   "cell_type": "code",
   "execution_count": 12,
   "metadata": {},
   "outputs": [],
   "source": [
    "#!docker run -d -p 4444:4444 -v --shm-mem=4G selenium/standalone-chrome"
   ]
  },
  {
   "cell_type": "code",
   "execution_count": 13,
   "metadata": {},
   "outputs": [
    {
     "name": "stdout",
     "output_type": "stream",
     "text": [
      "selenium-firefox\r\n"
     ]
    }
   ],
   "source": [
    "!docker stop selenium-firefox"
   ]
  },
  {
   "cell_type": "markdown",
   "metadata": {},
   "source": [
    "#### *--> Give your Docker container a moment to startup...*"
   ]
  },
  {
   "cell_type": "code",
   "execution_count": 14,
   "metadata": {},
   "outputs": [
    {
     "name": "stdout",
     "output_type": "stream",
     "text": [
      "selenium-chrome\r\n"
     ]
    }
   ],
   "source": [
    "!docker restart selenium-chrome"
   ]
  },
  {
   "cell_type": "code",
   "execution_count": 15,
   "metadata": {},
   "outputs": [
    {
     "name": "stdout",
     "output_type": "stream",
     "text": [
      "CONTAINER ID   IMAGE                        COMMAND                  CREATED       STATUS                  PORTS                    NAMES\r\n",
      "cddff367b0f5   selenium/standalone-chrome   \"/opt/bin/entry_poin…\"   4 hours ago   Up Less than a second   0.0.0.0:4444->4444/tcp   selenium-chrome\r\n"
     ]
    }
   ],
   "source": [
    "!docker ps"
   ]
  },
  {
   "cell_type": "markdown",
   "metadata": {},
   "source": [
    "## *Now running for the remaining ivys...*\n",
    "\n",
    "- pushing to github first as it'll run overnight ...\n",
    "\n",
    "- some of the containers fail which is alright, we can rerun after this batch completes. \n",
    "__________\n",
    "\n",
    "\n",
    "### Looping through the 55 penn story instagram URLs for comment web scraping ... \n",
    "\n",
    "- tested on loop & deploy for the 16 dartmouth URLs before running for all\n",
    "\n",
    "\n",
    "Network errors seem to mess this up... maybe the restart on failure flag isn't helpful? The pipeline failed to stop a restarted container...\n",
    "\n",
    "- I removed `--restart=on-failure` from [deploy.sh](./deploy.sh)... I think if a container fails we can just rerun by refreshing urls for comment getter in cells above:\n",
    "\n",
    "- there was a runaway container which hit 150+ clicks very quickly. I think I set a threshold of 500 clicks and it stops, I just hit the stop button to stop that container though. I probably need to rerun for just that one URL? I bumped this down to 100\n",
    "\n",
    "### The `selenium-chrome` seems to work better than `selenium-firefox`\n",
    "\n",
    "- the latter occassionally refuses the connection...\n",
    "\n",
    "- not sure why but the following URL keeps running off & clicking for the following https://www.instagram.com/p/CBn-zFWjDIf/... it did get comments and export to json though\n",
    "\n",
    "- the first error that chrome threw was the following (the firefox kept again sending connection refused):\n",
    "\n",
    "```\n",
    "    raise exception_class(message, screen, stacktrace)\n",
    "selenium.common.exceptions.WebDriverException: Message: unknown error: session deleted because of page crash\n",
    "from unknown error: cannot determine loading status\n",
    "from tab crashed\n",
    "  (Session info: headless chrome=85.0.4183.83)\n",
    "```\n",
    "\n",
    "which then becomes\n",
    "\n",
    "```\n",
    "    raise exception_class(message, screen, stacktrace)\n",
    "selenium.common.exceptions.WebDriverException: Message: chrome not reachable\n",
    "```\n",
    "\n",
    "in my terminal I tried to manually restart the selenium-chrome\n",
    "- docker-compose for a one url to one browser would be convenient ...\n",
    "this produced error:\n",
    "```\n",
    "rllib3.exceptions.ProtocolError: ('Connection aborted.', RemoteDisconnected('Remote end closed connection without response'))\n",
    "```\n",
    "\n",
    "I thought to add `docker restart selenium-chrome` on deploy.sh but that started to yield straight 3 comment yields... I think the posts did not all have same number of comments. I deleted those files to run again...\n",
    "\n",
    "_______\n",
    "\n",
    "So why does this not get more than 3 comments? https://www.instagram.com/p/CDzKZlHhu0Z\n",
    "\n",
    "```\n",
    "Getting comments for IG post --> https://www.instagram.com/p/CDzKZlHhu0Z\n",
    "commentGetter\n",
    "commentGetter\n",
    "Sending build context to Docker daemon  93.61MB\n",
    "Step 1/6 : FROM python:3.8-slim\n",
    " ---> 62297c9f4e5c\n",
    "Step 2/6 : COPY GetComments.py /app/GetComments.py\n",
    " ---> Using cache\n",
    " ---> 41fdc36d0ee7\n",
    "Step 3/6 : COPY configs /app/configs\n",
    " ---> Using cache\n",
    " ---> 463216f43026\n",
    "Step 4/6 : WORKDIR /app\n",
    " ---> Using cache\n",
    " ---> 152cf4ba995d\n",
    "Step 5/6 : RUN pip install -r /app/configs/requirements.txt\n",
    " ---> Using cache\n",
    " ---> 6989b6deb091\n",
    "Step 6/6 : CMD [\"python3\", \"GetComments.py\", \"https://www.instagram.com/p/CDzKZlHhu0Z\"]\n",
    " ---> Using cache\n",
    " ---> 53c39f6ab927\n",
    "Successfully built 53c39f6ab927\n",
    "Successfully tagged instagram_commentgetter:latest\n",
    "------------------------------------------------------------\n",
    "Raw html outfile prepared as: /data/raw/CDzKZlHhu0Z.html\n",
    "ETL outfile prepared as: /data/etl/CDzKZlHhu0Z.json\n",
    "Exporting to .html file --> /data/raw/CDzKZlHhu0Z.html\n",
    "Done! Number of comments extracted --> 3\n",
    "Exporting ETL json file --> /data/etl/CDzKZlHhu0Z.json\n",
    "Complete!\n",
    "```"
   ]
  },
  {
   "cell_type": "code",
   "execution_count": null,
   "metadata": {
    "scrolled": true
   },
   "outputs": [
    {
     "name": "stdout",
     "output_type": "stream",
     "text": [
      "Getting comments for IG post --> https://www.instagram.com/p/CDzKZlHhu0Z\n",
      "commentGetter\n",
      "commentGetter\n",
      "Sending build context to Docker daemon  93.61MB\n",
      "Step 1/6 : FROM python:3.8-slim\n",
      " ---> 62297c9f4e5c\n",
      "Step 2/6 : COPY GetComments.py /app/GetComments.py\n",
      " ---> Using cache\n",
      " ---> 41fdc36d0ee7\n",
      "Step 3/6 : COPY configs /app/configs\n",
      " ---> Using cache\n",
      " ---> 463216f43026\n",
      "Step 4/6 : WORKDIR /app\n",
      " ---> Using cache\n",
      " ---> 152cf4ba995d\n",
      "Step 5/6 : RUN pip install -r /app/configs/requirements.txt\n",
      " ---> Using cache\n",
      " ---> 6989b6deb091\n",
      "Step 6/6 : CMD [\"python3\", \"GetComments.py\", \"https://www.instagram.com/p/CDzKZlHhu0Z\"]\n",
      " ---> Using cache\n",
      " ---> 53c39f6ab927\n",
      "Successfully built 53c39f6ab927\n",
      "Successfully tagged instagram_commentgetter:latest\n",
      "------------------------------------------------------------\n",
      "Raw html outfile prepared as: /data/raw/CDzKZlHhu0Z.html\n",
      "ETL outfile prepared as: /data/etl/CDzKZlHhu0Z.json\n",
      "Exporting to .html file --> /data/raw/CDzKZlHhu0Z.html\n",
      "Done! Number of comments extracted --> 3\n",
      "Exporting ETL json file --> /data/etl/CDzKZlHhu0Z.json\n",
      "Complete!\n",
      "---------------------------------------------------------------------------\n",
      "commentGetter\n",
      "Getting comments for IG post --> https://www.instagram.com/p/CDy5cHYhVBD\n",
      "Error response from daemon: No such container: commentGetter\n",
      "Error: No such container: commentGetter\n",
      "Sending build context to Docker daemon  93.62MB\n",
      "Step 1/6 : FROM python:3.8-slim\n",
      " ---> 62297c9f4e5c\n",
      "Step 2/6 : COPY GetComments.py /app/GetComments.py\n",
      " ---> Using cache\n",
      " ---> 41fdc36d0ee7\n",
      "Step 3/6 : COPY configs /app/configs\n",
      " ---> Using cache\n",
      " ---> 463216f43026\n",
      "Step 4/6 : WORKDIR /app\n",
      " ---> Using cache\n",
      " ---> 152cf4ba995d\n",
      "Step 5/6 : RUN pip install -r /app/configs/requirements.txt\n",
      " ---> Using cache\n",
      " ---> 6989b6deb091\n",
      "Step 6/6 : CMD [\"python3\", \"GetComments.py\", \"https://www.instagram.com/p/CDy5cHYhVBD\"]\n",
      " ---> Using cache\n",
      " ---> 49b37dcee98d\n",
      "Successfully built 49b37dcee98d\n",
      "Successfully tagged instagram_commentgetter:latest\n",
      "------------------------------------------------------------\n",
      "Raw html outfile prepared as: /data/raw/CDy5cHYhVBD.html\n",
      "ETL outfile prepared as: /data/etl/CDy5cHYhVBD.json\n",
      "Exporting to .html file --> /data/raw/CDy5cHYhVBD.html\n",
      "Done! Number of comments extracted --> 3\n",
      "Exporting ETL json file --> /data/etl/CDy5cHYhVBD.json\n",
      "Complete!\n",
      "---------------------------------------------------------------------------\n",
      "commentGetter\n",
      "Getting comments for IG post --> https://www.instagram.com/p/CDxBEWdBDyx\n",
      "Error response from daemon: No such container: commentGetter\n",
      "Error: No such container: commentGetter\n",
      "Sending build context to Docker daemon  93.62MB\n",
      "Step 1/6 : FROM python:3.8-slim\n",
      " ---> 62297c9f4e5c\n",
      "Step 2/6 : COPY GetComments.py /app/GetComments.py\n",
      " ---> Using cache\n",
      " ---> 41fdc36d0ee7\n",
      "Step 3/6 : COPY configs /app/configs\n",
      " ---> Using cache\n",
      " ---> 463216f43026\n",
      "Step 4/6 : WORKDIR /app\n",
      " ---> Using cache\n",
      " ---> 152cf4ba995d\n",
      "Step 5/6 : RUN pip install -r /app/configs/requirements.txt\n",
      " ---> Using cache\n",
      " ---> 6989b6deb091\n",
      "Step 6/6 : CMD [\"python3\", \"GetComments.py\", \"https://www.instagram.com/p/CDxBEWdBDyx\"]\n",
      " ---> Using cache\n",
      " ---> 706bbf87be71\n",
      "Successfully built 706bbf87be71\n",
      "Successfully tagged instagram_commentgetter:latest\n",
      "------------------------------------------------------------\n",
      "Raw html outfile prepared as: /data/raw/CDxBEWdBDyx.html\n",
      "ETL outfile prepared as: /data/etl/CDxBEWdBDyx.json\n",
      "Exporting to .html file --> /data/raw/CDxBEWdBDyx.html\n",
      "Done! Number of comments extracted --> 3\n",
      "Exporting ETL json file --> /data/etl/CDxBEWdBDyx.json\n",
      "Complete!\n",
      "---------------------------------------------------------------------------\n",
      "commentGetter\n",
      "Getting comments for IG post --> https://www.instagram.com/p/CDmIFtfBaPq\n",
      "Error response from daemon: No such container: commentGetter\n",
      "Error: No such container: commentGetter\n",
      "Sending build context to Docker daemon  93.62MB\n",
      "Step 1/6 : FROM python:3.8-slim\n",
      " ---> 62297c9f4e5c\n",
      "Step 2/6 : COPY GetComments.py /app/GetComments.py\n",
      " ---> Using cache\n",
      " ---> 41fdc36d0ee7\n",
      "Step 3/6 : COPY configs /app/configs\n",
      " ---> Using cache\n",
      " ---> 463216f43026\n",
      "Step 4/6 : WORKDIR /app\n",
      " ---> Using cache\n",
      " ---> 152cf4ba995d\n",
      "Step 5/6 : RUN pip install -r /app/configs/requirements.txt\n",
      " ---> Using cache\n",
      " ---> 6989b6deb091\n",
      "Step 6/6 : CMD [\"python3\", \"GetComments.py\", \"https://www.instagram.com/p/CDmIFtfBaPq\"]\n",
      " ---> Using cache\n",
      " ---> 25b7e0514ea2\n",
      "Successfully built 25b7e0514ea2\n",
      "Successfully tagged instagram_commentgetter:latest\n",
      "------------------------------------------------------------\n",
      "Raw html outfile prepared as: /data/raw/CDmIFtfBaPq.html\n",
      "ETL outfile prepared as: /data/etl/CDmIFtfBaPq.json\n",
      "Exporting to .html file --> /data/raw/CDmIFtfBaPq.html\n",
      "Done! Number of comments extracted --> 3\n",
      "Exporting ETL json file --> /data/etl/CDmIFtfBaPq.json\n",
      "Complete!\n",
      "---------------------------------------------------------------------------\n",
      "commentGetter\n",
      "Getting comments for IG post --> https://www.instagram.com/p/CDkfoPKB1IW\n",
      "Error response from daemon: No such container: commentGetter\n",
      "Error: No such container: commentGetter\n",
      "Sending build context to Docker daemon  93.62MB\n",
      "Step 1/6 : FROM python:3.8-slim\n",
      " ---> 62297c9f4e5c\n",
      "Step 2/6 : COPY GetComments.py /app/GetComments.py\n",
      " ---> Using cache\n",
      " ---> 41fdc36d0ee7\n",
      "Step 3/6 : COPY configs /app/configs\n",
      " ---> Using cache\n",
      " ---> 463216f43026\n",
      "Step 4/6 : WORKDIR /app\n",
      " ---> Using cache\n",
      " ---> 152cf4ba995d\n",
      "Step 5/6 : RUN pip install -r /app/configs/requirements.txt\n",
      " ---> Using cache\n",
      " ---> 6989b6deb091\n",
      "Step 6/6 : CMD [\"python3\", \"GetComments.py\", \"https://www.instagram.com/p/CDkfoPKB1IW\"]\n",
      " ---> Using cache\n",
      " ---> 5320f2171bcc\n",
      "Successfully built 5320f2171bcc\n",
      "Successfully tagged instagram_commentgetter:latest\n",
      "------------------------------------------------------------\n",
      "Raw html outfile prepared as: /data/raw/CDkfoPKB1IW.html\n",
      "ETL outfile prepared as: /data/etl/CDkfoPKB1IW.json\n",
      "Exporting to .html file --> /data/raw/CDkfoPKB1IW.html\n",
      "Done! Number of comments extracted --> 3\n",
      "Exporting ETL json file --> /data/etl/CDkfoPKB1IW.json\n",
      "Complete!\n",
      "---------------------------------------------------------------------------\n",
      "commentGetter\n",
      "Getting comments for IG post --> https://www.instagram.com/p/CDezfumByxc\n",
      "Error response from daemon: No such container: commentGetter\n",
      "Error: No such container: commentGetter\n",
      "Sending build context to Docker daemon  93.62MB\n",
      "Step 1/6 : FROM python:3.8-slim\n",
      " ---> 62297c9f4e5c\n",
      "Step 2/6 : COPY GetComments.py /app/GetComments.py\n",
      " ---> Using cache\n",
      " ---> 41fdc36d0ee7\n",
      "Step 3/6 : COPY configs /app/configs\n",
      " ---> Using cache\n",
      " ---> 463216f43026\n",
      "Step 4/6 : WORKDIR /app\n",
      " ---> Using cache\n",
      " ---> 152cf4ba995d\n",
      "Step 5/6 : RUN pip install -r /app/configs/requirements.txt\n",
      " ---> Using cache\n",
      " ---> 6989b6deb091\n",
      "Step 6/6 : CMD [\"python3\", \"GetComments.py\", \"https://www.instagram.com/p/CDezfumByxc\"]\n",
      " ---> Using cache\n",
      " ---> 2471d7a9b4cc\n",
      "Successfully built 2471d7a9b4cc\n",
      "Successfully tagged instagram_commentgetter:latest\n",
      "------------------------------------------------------------\n",
      "Raw html outfile prepared as: /data/raw/CDezfumByxc.html\n",
      "ETL outfile prepared as: /data/etl/CDezfumByxc.json\n",
      "Exporting to .html file --> /data/raw/CDezfumByxc.html\n",
      "Done! Number of comments extracted --> 3\n",
      "Exporting ETL json file --> /data/etl/CDezfumByxc.json\n",
      "Complete!\n",
      "---------------------------------------------------------------------------\n",
      "commentGetter\n",
      "Getting comments for IG post --> https://www.instagram.com/p/CDerlBZBn5S\n",
      "Error response from daemon: No such container: commentGetter\n",
      "Error: No such container: commentGetter\n",
      "Sending build context to Docker daemon  93.62MB\n",
      "Step 1/6 : FROM python:3.8-slim\n",
      " ---> 62297c9f4e5c\n",
      "Step 2/6 : COPY GetComments.py /app/GetComments.py\n",
      " ---> Using cache\n",
      " ---> 41fdc36d0ee7\n",
      "Step 3/6 : COPY configs /app/configs\n",
      " ---> Using cache\n",
      " ---> 463216f43026\n",
      "Step 4/6 : WORKDIR /app\n",
      " ---> Using cache\n",
      " ---> 152cf4ba995d\n",
      "Step 5/6 : RUN pip install -r /app/configs/requirements.txt\n",
      " ---> Using cache\n",
      " ---> 6989b6deb091\n",
      "Step 6/6 : CMD [\"python3\", \"GetComments.py\", \"https://www.instagram.com/p/CDerlBZBn5S\"]\n",
      " ---> Using cache\n",
      " ---> c2bcacdfb009\n",
      "Successfully built c2bcacdfb009\n",
      "Successfully tagged instagram_commentgetter:latest\n",
      "------------------------------------------------------------\n",
      "Raw html outfile prepared as: /data/raw/CDerlBZBn5S.html\n",
      "ETL outfile prepared as: /data/etl/CDerlBZBn5S.json\n"
     ]
    },
    {
     "name": "stdout",
     "output_type": "stream",
     "text": [
      "Exporting to .html file --> /data/raw/CDerlBZBn5S.html\n",
      "Done! Number of comments extracted --> 3\n",
      "Exporting ETL json file --> /data/etl/CDerlBZBn5S.json\n",
      "Complete!\n",
      "---------------------------------------------------------------------------\n",
      "commentGetter\n",
      "Getting comments for IG post --> https://www.instagram.com/p/CDee-KMBUJe\n",
      "Error response from daemon: No such container: commentGetter\n",
      "Error: No such container: commentGetter\n",
      "Sending build context to Docker daemon  93.62MB\n",
      "Step 1/6 : FROM python:3.8-slim\n",
      " ---> 62297c9f4e5c\n",
      "Step 2/6 : COPY GetComments.py /app/GetComments.py\n",
      " ---> Using cache\n",
      " ---> 41fdc36d0ee7\n",
      "Step 3/6 : COPY configs /app/configs\n",
      " ---> Using cache\n",
      " ---> 463216f43026\n",
      "Step 4/6 : WORKDIR /app\n",
      " ---> Using cache\n",
      " ---> 152cf4ba995d\n",
      "Step 5/6 : RUN pip install -r /app/configs/requirements.txt\n",
      " ---> Using cache\n",
      " ---> 6989b6deb091\n",
      "Step 6/6 : CMD [\"python3\", \"GetComments.py\", \"https://www.instagram.com/p/CDee-KMBUJe\"]\n",
      " ---> Running in 9011624989ea\n",
      "Removing intermediate container 9011624989ea\n",
      " ---> dd21106b5e4d\n",
      "Successfully built dd21106b5e4d\n",
      "Successfully tagged instagram_commentgetter:latest\n",
      "------------------------------------------------------------\n",
      "Raw html outfile prepared as: /data/raw/CDee-KMBUJe.html\n",
      "ETL outfile prepared as: /data/etl/CDee-KMBUJe.json\n",
      "Exporting to .html file --> /data/raw/CDee-KMBUJe.html\n",
      "Done! Number of comments extracted --> 3\n",
      "Exporting ETL json file --> /data/etl/CDee-KMBUJe.json\n",
      "Complete!\n",
      "---------------------------------------------------------------------------\n",
      "commentGetter\n",
      "Getting comments for IG post --> https://www.instagram.com/p/CDedn-WBVbJ\n",
      "Error response from daemon: No such container: commentGetter\n",
      "Error: No such container: commentGetter\n",
      "Sending build context to Docker daemon  93.64MB\n",
      "Step 1/6 : FROM python:3.8-slim\n",
      " ---> 62297c9f4e5c\n",
      "Step 2/6 : COPY GetComments.py /app/GetComments.py\n",
      " ---> Using cache\n",
      " ---> 41fdc36d0ee7\n",
      "Step 3/6 : COPY configs /app/configs\n",
      " ---> Using cache\n",
      " ---> 463216f43026\n",
      "Step 4/6 : WORKDIR /app\n",
      " ---> Using cache\n",
      " ---> 152cf4ba995d\n",
      "Step 5/6 : RUN pip install -r /app/configs/requirements.txt\n",
      " ---> Using cache\n",
      " ---> 6989b6deb091\n",
      "Step 6/6 : CMD [\"python3\", \"GetComments.py\", \"https://www.instagram.com/p/CDedn-WBVbJ\"]\n",
      " ---> Running in b4375dab612b\n",
      "Removing intermediate container b4375dab612b\n",
      " ---> 44b77df8bebf\n",
      "Successfully built 44b77df8bebf\n",
      "Successfully tagged instagram_commentgetter:latest\n",
      "------------------------------------------------------------\n",
      "Raw html outfile prepared as: /data/raw/CDedn-WBVbJ.html\n",
      "ETL outfile prepared as: /data/etl/CDedn-WBVbJ.json\n",
      "Exporting to .html file --> /data/raw/CDedn-WBVbJ.html\n",
      "Done! Number of comments extracted --> 3\n",
      "Exporting ETL json file --> /data/etl/CDedn-WBVbJ.json\n",
      "Complete!\n",
      "---------------------------------------------------------------------------\n",
      "commentGetter\n",
      "Getting comments for IG post --> https://www.instagram.com/p/CDecEsPBExQ\n",
      "Error response from daemon: No such container: commentGetter\n",
      "Error: No such container: commentGetter\n",
      "Sending build context to Docker daemon  93.66MB\n",
      "Step 1/6 : FROM python:3.8-slim\n",
      " ---> 62297c9f4e5c\n",
      "Step 2/6 : COPY GetComments.py /app/GetComments.py\n",
      " ---> Using cache\n",
      " ---> 41fdc36d0ee7\n",
      "Step 3/6 : COPY configs /app/configs\n",
      " ---> Using cache\n",
      " ---> 463216f43026\n",
      "Step 4/6 : WORKDIR /app\n",
      " ---> Using cache\n",
      " ---> 152cf4ba995d\n",
      "Step 5/6 : RUN pip install -r /app/configs/requirements.txt\n",
      " ---> Using cache\n",
      " ---> 6989b6deb091\n",
      "Step 6/6 : CMD [\"python3\", \"GetComments.py\", \"https://www.instagram.com/p/CDecEsPBExQ\"]\n",
      " ---> Running in dac9697f2455\n",
      "Removing intermediate container dac9697f2455\n",
      " ---> fe818ef9df73\n",
      "Successfully built fe818ef9df73\n",
      "Successfully tagged instagram_commentgetter:latest\n",
      "------------------------------------------------------------\n",
      "Raw html outfile prepared as: /data/raw/CDecEsPBExQ.html\n",
      "ETL outfile prepared as: /data/etl/CDecEsPBExQ.json\n",
      "Exporting to .html file --> /data/raw/CDecEsPBExQ.html\n",
      "Done! Number of comments extracted --> 3\n",
      "Exporting ETL json file --> /data/etl/CDecEsPBExQ.json\n",
      "Complete!\n",
      "---------------------------------------------------------------------------\n",
      "commentGetter\n",
      "Getting comments for IG post --> https://www.instagram.com/p/CDeaKS4h6vI\n",
      "Error response from daemon: No such container: commentGetter\n",
      "Error: No such container: commentGetter\n",
      "^Cnding build context to Docker daemon  6.128MB\n",
      "Getting comments for IG post --> https://www.instagram.com/p/CDeX2wCB1LG\n",
      "Error response from daemon: No such container: commentGetter\n",
      "Error: No such container: commentGetter\n",
      "Sending build context to Docker daemon  12.26MB\r"
     ]
    }
   ],
   "source": [
    "for url in url_for_commentgetter:\n",
    "  \n",
    "    ##################################################################\n",
    "    # Clean up URL (in case lacking https or has trailing slash)...\n",
    "    if not url.startswith('https://'):\n",
    "        url = 'https://' + url\n",
    "    if url.endswith('/'):\n",
    "        url=url[:-1]\n",
    "    \n",
    "    ##################################################################\n",
    "    # Prepare Dockerfile (using template to overwrite for next URL)\n",
    "    dockerfile_in = open(\"./configs/dockerfile_template\", \"rt\")\n",
    "    dockerfile_out = open(\"./Dockerfile\", \"wt\")\n",
    "    \n",
    "    # Replace the value w/ URL -- this loops through lines, would be better using regex...\n",
    "    for line in dockerfile_in:\n",
    "        # This is how url gets passed to container...\n",
    "        dockerfile_out.write(line.replace('replace_with_url', '\"{}\"'.format(url)))\n",
    "    \n",
    "    #close input and output dockerfile & template\n",
    "    dockerfile_in.close()\n",
    "    dockerfile_out.close()\n",
    "    \n",
    "    ##################################################################\n",
    "    # BEGIN LOOPING THROUGH URLS BY LAUNCHING DOCKER CommentGetters\n",
    "    print('Getting comments for IG post --> {}'.format(url))\n",
    "    try:\n",
    "        !bash $deploy_script_path\n",
    "    except:\n",
    "        print('oops! failed for {}'.format(url))\n",
    "        break"
   ]
  },
  {
   "cell_type": "markdown",
   "metadata": {},
   "source": [
    "__________"
   ]
  },
  {
   "cell_type": "code",
   "execution_count": 17,
   "metadata": {},
   "outputs": [
    {
     "name": "stdout",
     "output_type": "stream",
     "text": [
      "CONTAINER ID   IMAGE                            COMMAND                  CREATED              STATUS              PORTS                    NAMES\r\n",
      "cf28a2d6f945   instagram_commentgetter:latest   \"python3 GetComments…\"   About a minute ago   Up About a minute                            commentGetter\r\n",
      "35faafb3499e   selenium/standalone-firefox      \"/opt/bin/entry_poin…\"   About an hour ago    Up 9 minutes        0.0.0.0:4444->4444/tcp   selenium-firefox\r\n"
     ]
    }
   ],
   "source": [
    "!docker ps"
   ]
  },
  {
   "cell_type": "code",
   "execution_count": 18,
   "metadata": {},
   "outputs": [],
   "source": [
    "etl_files = [item for item in os.listdir('./data/etl/') if item.endswith('.json')]"
   ]
  },
  {
   "cell_type": "markdown",
   "metadata": {},
   "source": [
    "### Post deployment -- Combine all etl JSON comments into df"
   ]
  },
  {
   "cell_type": "code",
   "execution_count": 19,
   "metadata": {},
   "outputs": [],
   "source": [
    "etl_files = [item for item in os.listdir('./data/etl/') if item.endswith('.json')]\n",
    "\n",
    "dfs = []\n",
    "\n",
    "for etl in etl_files:\n",
    "    dfs.append(pd.read_json('./data/etl/{}'.format(etl)))\n",
    "    \n",
    "etl_df = pd.concat(dfs)"
   ]
  },
  {
   "cell_type": "code",
   "execution_count": 20,
   "metadata": {},
   "outputs": [
    {
     "data": {
      "text/plain": [
       "(1109, 3)"
      ]
     },
     "execution_count": 20,
     "metadata": {},
     "output_type": "execute_result"
    }
   ],
   "source": [
    "etl_df.shape"
   ]
  },
  {
   "cell_type": "code",
   "execution_count": 21,
   "metadata": {},
   "outputs": [
    {
     "data": {
      "text/html": [
       "<div>\n",
       "<style scoped>\n",
       "    .dataframe tbody tr th:only-of-type {\n",
       "        vertical-align: middle;\n",
       "    }\n",
       "\n",
       "    .dataframe tbody tr th {\n",
       "        vertical-align: top;\n",
       "    }\n",
       "\n",
       "    .dataframe thead th {\n",
       "        text-align: right;\n",
       "    }\n",
       "</style>\n",
       "<table border=\"1\" class=\"dataframe\">\n",
       "  <thead>\n",
       "    <tr style=\"text-align: right;\">\n",
       "      <th></th>\n",
       "      <th>url</th>\n",
       "      <th>author</th>\n",
       "      <th>comment</th>\n",
       "    </tr>\n",
       "  </thead>\n",
       "  <tbody>\n",
       "    <tr>\n",
       "      <th>0</th>\n",
       "      <td>https://www.instagram.com/p/CB1vWGmJJWc</td>\n",
       "      <td>blackivystories</td>\n",
       "      <td>@uofpenn . . . . . . #blackstudentsmatter   #b...</td>\n",
       "    </tr>\n",
       "    <tr>\n",
       "      <th>1</th>\n",
       "      <td>https://www.instagram.com/p/CB1vWGmJJWc</td>\n",
       "      <td>doreenm1</td>\n",
       "      <td>😡  @uofpenn   @columbia  enough of this racist...</td>\n",
       "    </tr>\n",
       "    <tr>\n",
       "      <th>2</th>\n",
       "      <td>https://www.instagram.com/p/CB1vWGmJJWc</td>\n",
       "      <td>jay_theorist</td>\n",
       "      <td>@skaijackson 36w Reply</td>\n",
       "    </tr>\n",
       "    <tr>\n",
       "      <th>3</th>\n",
       "      <td>https://www.instagram.com/p/CB1vWGmJJWc</td>\n",
       "      <td>View</td>\n",
       "      <td>replies (1)</td>\n",
       "    </tr>\n",
       "    <tr>\n",
       "      <th>4</th>\n",
       "      <td>https://www.instagram.com/p/CB1vWGmJJWc</td>\n",
       "      <td>janzibrown</td>\n",
       "      <td>Wow 36w 1 like Reply</td>\n",
       "    </tr>\n",
       "    <tr>\n",
       "      <th>...</th>\n",
       "      <td>...</td>\n",
       "      <td>...</td>\n",
       "      <td>...</td>\n",
       "    </tr>\n",
       "    <tr>\n",
       "      <th>24</th>\n",
       "      <td>https://www.instagram.com/p/CCl0jqGh0S1</td>\n",
       "      <td>View</td>\n",
       "      <td>replies (1)</td>\n",
       "    </tr>\n",
       "    <tr>\n",
       "      <th>25</th>\n",
       "      <td>https://www.instagram.com/p/CCl0jqGh0S1</td>\n",
       "      <td>victoriatellez</td>\n",
       "      <td>What the fuck 33w 1 like Reply</td>\n",
       "    </tr>\n",
       "    <tr>\n",
       "      <th>26</th>\n",
       "      <td>https://www.instagram.com/p/CCl0jqGh0S1</td>\n",
       "      <td>kiwikiwikiwi25</td>\n",
       "      <td>😞 What an ignorant and horrible thing to say. ...</td>\n",
       "    </tr>\n",
       "    <tr>\n",
       "      <th>27</th>\n",
       "      <td>https://www.instagram.com/p/CCl0jqGh0S1</td>\n",
       "      <td>catie.mc23</td>\n",
       "      <td>@dartmouthcollege 33w Reply</td>\n",
       "    </tr>\n",
       "    <tr>\n",
       "      <th>28</th>\n",
       "      <td>https://www.instagram.com/p/CCl0jqGh0S1</td>\n",
       "      <td>grace.chennn</td>\n",
       "      <td>Eww  @isabwu_19 28w Reply</td>\n",
       "    </tr>\n",
       "  </tbody>\n",
       "</table>\n",
       "<p>1109 rows × 3 columns</p>\n",
       "</div>"
      ],
      "text/plain": [
       "                                        url           author  \\\n",
       "0   https://www.instagram.com/p/CB1vWGmJJWc  blackivystories   \n",
       "1   https://www.instagram.com/p/CB1vWGmJJWc         doreenm1   \n",
       "2   https://www.instagram.com/p/CB1vWGmJJWc     jay_theorist   \n",
       "3   https://www.instagram.com/p/CB1vWGmJJWc             View   \n",
       "4   https://www.instagram.com/p/CB1vWGmJJWc       janzibrown   \n",
       "..                                      ...              ...   \n",
       "24  https://www.instagram.com/p/CCl0jqGh0S1             View   \n",
       "25  https://www.instagram.com/p/CCl0jqGh0S1   victoriatellez   \n",
       "26  https://www.instagram.com/p/CCl0jqGh0S1   kiwikiwikiwi25   \n",
       "27  https://www.instagram.com/p/CCl0jqGh0S1       catie.mc23   \n",
       "28  https://www.instagram.com/p/CCl0jqGh0S1     grace.chennn   \n",
       "\n",
       "                                              comment  \n",
       "0   @uofpenn . . . . . . #blackstudentsmatter   #b...  \n",
       "1   😡  @uofpenn   @columbia  enough of this racist...  \n",
       "2                              @skaijackson 36w Reply  \n",
       "3                                         replies (1)  \n",
       "4                                Wow 36w 1 like Reply  \n",
       "..                                                ...  \n",
       "24                                        replies (1)  \n",
       "25                     What the fuck 33w 1 like Reply  \n",
       "26  😞 What an ignorant and horrible thing to say. ...  \n",
       "27                        @dartmouthcollege 33w Reply  \n",
       "28                          Eww  @isabwu_19 28w Reply  \n",
       "\n",
       "[1109 rows x 3 columns]"
      ]
     },
     "execution_count": 21,
     "metadata": {},
     "output_type": "execute_result"
    }
   ],
   "source": [
    "etl_df"
   ]
  },
  {
   "cell_type": "code",
   "execution_count": null,
   "metadata": {},
   "outputs": [],
   "source": []
  }
 ],
 "metadata": {
  "kernelspec": {
   "display_name": "Python 3",
   "language": "python",
   "name": "python3"
  },
  "language_info": {
   "codemirror_mode": {
    "name": "ipython",
    "version": 3
   },
   "file_extension": ".py",
   "mimetype": "text/x-python",
   "name": "python",
   "nbconvert_exporter": "python",
   "pygments_lexer": "ipython3",
   "version": "3.7.4"
  }
 },
 "nbformat": 4,
 "nbformat_minor": 2
}
